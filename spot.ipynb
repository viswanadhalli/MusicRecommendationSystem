{
 "cells": [
  {
   "cell_type": "code",
   "execution_count": 3,
   "id": "b5a62fd9",
   "metadata": {},
   "outputs": [],
   "source": [
    "import spotipy\n",
    "from spotipy.oauth2 import SpotifyClientCredentials\n",
    "sp=spotipy.Spotify(auth_manager=SpotifyClientCredentials(client_id=\"4e7b220ab55e4887a6f275a639cd08a7\", client_secret=\"a181a5078b0143b5a43d7f7e2883497f\"))\n",
    "playlist_limit = 5\n",
    "song_limit_per_playlist = 20\n",
    "def songs_by_emotion(emotion):\n",
    "    results = sp.search(q=emotion,type='playlist', limit=playlist_limit)\n",
    "    gs = []\n",
    "    for el in results['playlists']['items']:\n",
    "        temp = {}\n",
    "        temp['playlist_name'] = el['name']\n",
    "        temp['playlist_href'] = el['href']\n",
    "        temp['playlist_id'] = el['id']\n",
    "        temp['playlist_spotify_link'] = el['external_urls']['spotify']\n",
    "        gs.append(temp)\n",
    "    fnl_playlist_songs = gs\n",
    "    for i in range(0,len(gs)):\n",
    "        res = sp.playlist(playlist_id = gs[i]['playlist_id'])\n",
    "        srn = res['tracks']['items'][0:song_limit_per_playlist]\n",
    "        tlist = []\n",
    "        for el in srn:\n",
    "            tlist.append(el['track']['name'])\n",
    "        fnl_playlist_songs[i]['playlist_songs'] = tlist\n",
    "    return fnl_playlist_songs\n",
    "def print_songs(fnl_playlist_songs):\n",
    "    for el in fnl_playlist_songs:\n",
    "        print('playlist_name : ' + str(el['playlist_name']))\n",
    "        print('playlist_href : ' + str(el['playlist_href']))\n",
    "        print('playlist_spotify_link : ' + str(el['playlist_spotify_link']))\n",
    "        print('playlist_songs : ' )\n",
    "        for i in range(0,len(el['playlist_songs'])):\n",
    "            print(str(i+1) + ') ' + el['playlist_songs'][i])\n",
    "        print('-----------------------------------------------')\n"
   ]
  },
  {
   "cell_type": "code",
   "execution_count": null,
   "id": "9e08139d",
   "metadata": {},
   "outputs": [],
   "source": []
  }
 ],
 "metadata": {
  "kernelspec": {
   "display_name": "Python 3 (ipykernel)",
   "language": "python",
   "name": "python3"
  },
  "language_info": {
   "codemirror_mode": {
    "name": "ipython",
    "version": 3
   },
   "file_extension": ".py",
   "mimetype": "text/x-python",
   "name": "python",
   "nbconvert_exporter": "python",
   "pygments_lexer": "ipython3",
   "version": "3.9.7"
  }
 },
 "nbformat": 4,
 "nbformat_minor": 5
}
