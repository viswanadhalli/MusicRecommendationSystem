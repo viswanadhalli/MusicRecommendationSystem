{
 "cells": [
  {
   "cell_type": "markdown",
   "metadata": {},
   "source": [
    "# For Preprocessing and Creating the CNN model:"
   ]
  },
  {
   "cell_type": "markdown",
   "metadata": {},
   "source": [
    "Preprocessing:"
   ]
  },
  {
   "cell_type": "code",
   "execution_count": 1,
   "metadata": {},
   "outputs": [],
   "source": [
    "import keras\n",
    "from keras.models import Sequential\n",
    "from keras.layers import Conv2D, MaxPooling2D, AveragePooling2D\n",
    "from keras.layers import Dense, Activation, Dropout, Flatten\n",
    "from keras.preprocessing import image\n",
    "from keras.preprocessing.image import ImageDataGenerator\n",
    "import numpy as np\n",
    "import matplotlib.pyplot as plt\n",
    "import tensorflow as tf\n",
    "from tensorflow import keras"
   ]
  },
  {
   "cell_type": "code",
   "execution_count": 2,
   "metadata": {},
   "outputs": [],
   "source": [
    "with open(r\"fer2013\\fer2013.csv\") as f:\n",
    "    content = f.readlines()"
   ]
  },
  {
   "cell_type": "code",
   "execution_count": 3,
   "metadata": {},
   "outputs": [],
   "source": [
    "lines = np.array(content)"
   ]
  },
  {
   "cell_type": "code",
   "execution_count": 4,
   "metadata": {},
   "outputs": [
    {
     "name": "stdout",
     "output_type": "stream",
     "text": [
      "number of instances:  35888\n",
      "instance length:  2304\n"
     ]
    }
   ],
   "source": [
    "num_of_instances = lines.size\n",
    "print(\"number of instances: \",num_of_instances)\n",
    "print(\"instance length: \",len(lines[1].split(\",\")[1].split(\" \")))"
   ]
  },
  {
   "cell_type": "code",
   "execution_count": 5,
   "metadata": {},
   "outputs": [],
   "source": [
    "x_train, y_train, x_test, y_test = [], [], [], []"
   ]
  },
  {
   "cell_type": "code",
   "execution_count": 6,
   "metadata": {},
   "outputs": [],
   "source": [
    "l=[]\n",
    "l1=[]\n",
    "l2=[]\n",
    "l3=[]"
   ]
  },
  {
   "cell_type": "code",
   "execution_count": 7,
   "metadata": {},
   "outputs": [],
   "source": [
    "for i in range(1,num_of_instances):\n",
    "    try:\n",
    "        emotion, img, usage = lines[i].split(\",\")\n",
    "        val = img.split(\" \")\n",
    "        pixels = np.array(val, 'float32')\n",
    "        emotion = keras.utils.to_categorical(emotion, 7)\n",
    "        \n",
    "        if 'Training' in usage:\n",
    "            l1.append(emotion)\n",
    "            l.append(pixels)\n",
    "        elif 'PublicTest' in usage:\n",
    "            l3.append(emotion)\n",
    "            l2.append(pixels)\n",
    "    except:\n",
    "        print(\"\", end=\"\")\n"
   ]
  },
  {
   "cell_type": "code",
   "execution_count": 8,
   "metadata": {},
   "outputs": [],
   "source": [
    "x_train=l\n",
    "y_train=l1\n",
    "x_test=l2\n",
    "y_test=l3"
   ]
  },
  {
   "cell_type": "code",
   "execution_count": 9,
   "metadata": {
    "scrolled": true
   },
   "outputs": [
    {
     "name": "stdout",
     "output_type": "stream",
     "text": [
      "28709 train samples\n",
      "3589 test samples\n"
     ]
    }
   ],
   "source": [
    "x_train = np.array(x_train, 'float32')\n",
    "y_train = np.array(y_train, 'float32')\n",
    "x_test = np.array(x_test, 'float32')\n",
    "y_test = np.array(y_test, 'float32')\n",
    "x_train /= 255 #normalize inputs between [0, 1]\n",
    "x_test /= 255\n",
    "x_train = x_train.reshape(x_train.shape[0], 48, 48, 1)\n",
    "x_train = x_train.astype('float32')\n",
    "x_test = x_test.reshape(x_test.shape[0], 48, 48, 1)\n",
    "x_test = x_test.astype('float32')\n",
    "print(x_train.shape[0], 'train samples')\n",
    "print(x_test.shape[0], 'test samples')\n"
   ]
  },
  {
   "cell_type": "markdown",
   "metadata": {},
   "source": [
    "CNN structure:"
   ]
  },
  {
   "cell_type": "code",
   "execution_count": 10,
   "metadata": {},
   "outputs": [],
   "source": [
    "#construct CNN structure\n",
    "num_classes=7\n",
    "model = Sequential()\n",
    "#1st convolution layer\n",
    "model.add(Conv2D(64, (5, 5), activation='relu', input_shape=(48,48,1)))\n",
    "model.add(MaxPooling2D(pool_size=(5,5), strides=(2, 2)))\n",
    "#2nd convolution layer\n",
    "model.add(Conv2D(64, (3, 3), activation='relu'))\n",
    "model.add(Conv2D(64, (3, 3), activation='relu'))\n",
    "model.add(AveragePooling2D(pool_size=(3,3), strides=(2, 2)))\n",
    "#3rd convolution layer\n",
    "model.add(Conv2D(128, (3, 3), activation='relu'))\n",
    "model.add(Conv2D(128, (3, 3), activation='relu'))\n",
    "model.add(AveragePooling2D(pool_size=(3,3), strides=(2, 2)))\n",
    "model.add(Flatten())\n",
    "#fully connected neural networks\n",
    "model.add(Dense(1024, activation='relu'))\n",
    "model.add(Dropout(0.2))\n",
    "model.add(Dense(1024, activation='relu'))\n",
    "model.add(Dropout(0.2))\n",
    "model.add(Dense(num_classes, activation='softmax'))"
   ]
  },
  {
   "cell_type": "code",
   "execution_count": 11,
   "metadata": {},
   "outputs": [],
   "source": [
    "num_classes = 7 #angry, disgust, fear, happy, sad, surprise, neutral\n",
    "batch_size = 128\n",
    "epochs = 100"
   ]
  },
  {
   "cell_type": "code",
   "execution_count": 12,
   "metadata": {},
   "outputs": [],
   "source": [
    "#batch process\n",
    "gen = ImageDataGenerator()\n",
    "train_generator = gen.flow(x_train, y_train, batch_size=batch_size)"
   ]
  },
  {
   "cell_type": "code",
   "execution_count": 13,
   "metadata": {},
   "outputs": [],
   "source": [
    "test_generator = gen.flow(x_test, y_test, batch_size=batch_size)"
   ]
  },
  {
   "cell_type": "code",
   "execution_count": 14,
   "metadata": {},
   "outputs": [],
   "source": [
    "model.compile(loss='categorical_crossentropy', optimizer=keras.optimizers.Adam(), metrics=['accuracy'])"
   ]
  },
  {
   "cell_type": "code",
   "execution_count": 25,
   "metadata": {},
   "outputs": [
    {
     "name": "stdout",
     "output_type": "stream",
     "text": [
      "Epoch 1/100\n",
      "128/128 [==============================] - 47s 369ms/step - loss: 1.7913 - accuracy: 0.2527\n",
      "Epoch 2/100\n",
      "128/128 [==============================] - 113s 879ms/step - loss: 1.7008 - accuracy: 0.3030\n",
      "Epoch 3/100\n",
      "128/128 [==============================] - 153s 1s/step - loss: 1.6140 - accuracy: 0.3582\n",
      "Epoch 4/100\n",
      "128/128 [==============================] - 148s 1s/step - loss: 1.5321 - accuracy: 0.3993\n",
      "Epoch 5/100\n",
      "128/128 [==============================] - 147s 1s/step - loss: 1.4831 - accuracy: 0.4221\n",
      "Epoch 6/100\n",
      "128/128 [==============================] - 151s 1s/step - loss: 1.4449 - accuracy: 0.4398\n",
      "Epoch 7/100\n",
      "128/128 [==============================] - 146s 1s/step - loss: 1.4017 - accuracy: 0.4578\n",
      "Epoch 8/100\n",
      "128/128 [==============================] - 157s 1s/step - loss: 1.3595 - accuracy: 0.4796\n",
      "Epoch 9/100\n",
      "128/128 [==============================] - 152s 1s/step - loss: 1.3232 - accuracy: 0.4895\n",
      "Epoch 10/100\n",
      "128/128 [==============================] - 150s 1s/step - loss: 1.3013 - accuracy: 0.5024\n",
      "Epoch 11/100\n",
      "128/128 [==============================] - 151s 1s/step - loss: 1.2778 - accuracy: 0.5161\n",
      "Epoch 12/100\n",
      "128/128 [==============================] - 153s 1s/step - loss: 1.2491 - accuracy: 0.5264\n",
      "Epoch 13/100\n",
      "128/128 [==============================] - 150s 1s/step - loss: 1.2301 - accuracy: 0.5301\n",
      "Epoch 14/100\n",
      "128/128 [==============================] - 152s 1s/step - loss: 1.2083 - accuracy: 0.5409\n",
      "Epoch 15/100\n",
      "128/128 [==============================] - 151s 1s/step - loss: 1.1972 - accuracy: 0.5453\n",
      "Epoch 16/100\n",
      "128/128 [==============================] - 151s 1s/step - loss: 1.1683 - accuracy: 0.5547\n",
      "Epoch 17/100\n",
      "128/128 [==============================] - 151s 1s/step - loss: 1.1511 - accuracy: 0.5613\n",
      "Epoch 18/100\n",
      "128/128 [==============================] - 173s 1s/step - loss: 1.1381 - accuracy: 0.5659\n",
      "Epoch 19/100\n",
      "128/128 [==============================] - 102s 800ms/step - loss: 1.1287 - accuracy: 0.5710\n",
      "Epoch 20/100\n",
      "128/128 [==============================] - 43s 336ms/step - loss: 1.1057 - accuracy: 0.5783\n",
      "Epoch 21/100\n",
      "128/128 [==============================] - 37s 288ms/step - loss: 1.0915 - accuracy: 0.5919\n",
      "Epoch 22/100\n",
      "128/128 [==============================] - 36s 285ms/step - loss: 1.0685 - accuracy: 0.5987\n",
      "Epoch 23/100\n",
      "128/128 [==============================] - 37s 288ms/step - loss: 1.0517 - accuracy: 0.6061\n",
      "Epoch 24/100\n",
      "128/128 [==============================] - 38s 297ms/step - loss: 1.0399 - accuracy: 0.6077\n",
      "Epoch 25/100\n",
      "128/128 [==============================] - 37s 293ms/step - loss: 1.0326 - accuracy: 0.6094\n",
      "Epoch 26/100\n",
      "128/128 [==============================] - 37s 290ms/step - loss: 1.0207 - accuracy: 0.6166\n",
      "Epoch 27/100\n",
      "128/128 [==============================] - 38s 294ms/step - loss: 1.0021 - accuracy: 0.6244\n",
      "Epoch 28/100\n",
      "128/128 [==============================] - 37s 292ms/step - loss: 0.9846 - accuracy: 0.6309\n",
      "Epoch 29/100\n",
      "128/128 [==============================] - 37s 293ms/step - loss: 0.9490 - accuracy: 0.6442\n",
      "Epoch 30/100\n",
      "128/128 [==============================] - 37s 291ms/step - loss: 0.9472 - accuracy: 0.6471\n",
      "Epoch 31/100\n",
      "128/128 [==============================] - 37s 292ms/step - loss: 0.9232 - accuracy: 0.6533\n",
      "Epoch 32/100\n",
      "128/128 [==============================] - 38s 295ms/step - loss: 0.9026 - accuracy: 0.6639\n",
      "Epoch 33/100\n",
      "128/128 [==============================] - 37s 291ms/step - loss: 0.9051 - accuracy: 0.6606\n",
      "Epoch 34/100\n",
      "128/128 [==============================] - 37s 292ms/step - loss: 0.8798 - accuracy: 0.6761\n",
      "Epoch 35/100\n",
      "128/128 [==============================] - 37s 290ms/step - loss: 0.8613 - accuracy: 0.6785\n",
      "Epoch 36/100\n",
      "128/128 [==============================] - 37s 288ms/step - loss: 0.8469 - accuracy: 0.6885\n",
      "Epoch 37/100\n",
      "128/128 [==============================] - 37s 291ms/step - loss: 0.8274 - accuracy: 0.6904\n",
      "Epoch 38/100\n",
      "128/128 [==============================] - 37s 292ms/step - loss: 0.8134 - accuracy: 0.7009\n",
      "Epoch 39/100\n",
      "128/128 [==============================] - 37s 291ms/step - loss: 0.8021 - accuracy: 0.7023\n",
      "Epoch 40/100\n",
      "128/128 [==============================] - 38s 294ms/step - loss: 0.7900 - accuracy: 0.7049\n",
      "Epoch 41/100\n",
      "128/128 [==============================] - 37s 290ms/step - loss: 0.7472 - accuracy: 0.7195\n",
      "Epoch 42/100\n",
      "128/128 [==============================] - 37s 291ms/step - loss: 0.7635 - accuracy: 0.7189\n",
      "Epoch 43/100\n",
      "128/128 [==============================] - 37s 291ms/step - loss: 0.7235 - accuracy: 0.7345\n",
      "Epoch 44/100\n",
      "128/128 [==============================] - 37s 291ms/step - loss: 0.7158 - accuracy: 0.7369\n",
      "Epoch 45/100\n",
      "128/128 [==============================] - 37s 288ms/step - loss: 0.7011 - accuracy: 0.7392\n",
      "Epoch 46/100\n",
      "128/128 [==============================] - 37s 291ms/step - loss: 0.6848 - accuracy: 0.7505\n",
      "Epoch 47/100\n",
      "128/128 [==============================] - 37s 290ms/step - loss: 0.6630 - accuracy: 0.7570\n",
      "Epoch 48/100\n",
      "128/128 [==============================] - 37s 292ms/step - loss: 0.6507 - accuracy: 0.7609\n",
      "Epoch 49/100\n",
      "128/128 [==============================] - 37s 291ms/step - loss: 0.6283 - accuracy: 0.7686\n",
      "Epoch 50/100\n",
      "128/128 [==============================] - 37s 292ms/step - loss: 0.6233 - accuracy: 0.7723\n",
      "Epoch 51/100\n",
      "128/128 [==============================] - 37s 292ms/step - loss: 0.6117 - accuracy: 0.7711\n",
      "Epoch 52/100\n",
      "128/128 [==============================] - 38s 295ms/step - loss: 0.5827 - accuracy: 0.7866\n",
      "Epoch 53/100\n",
      "128/128 [==============================] - 37s 291ms/step - loss: 0.5673 - accuracy: 0.7908\n",
      "Epoch 54/100\n",
      "128/128 [==============================] - 37s 287ms/step - loss: 0.5611 - accuracy: 0.7920\n",
      "Epoch 55/100\n",
      "128/128 [==============================] - 37s 288ms/step - loss: 0.5478 - accuracy: 0.7969\n",
      "Epoch 56/100\n",
      "128/128 [==============================] - 37s 286ms/step - loss: 0.5284 - accuracy: 0.8071\n",
      "Epoch 57/100\n",
      "128/128 [==============================] - 36s 285ms/step - loss: 0.5248 - accuracy: 0.8098\n",
      "Epoch 58/100\n",
      "128/128 [==============================] - 36s 285ms/step - loss: 0.5168 - accuracy: 0.8109\n",
      "Epoch 59/100\n",
      "128/128 [==============================] - 37s 287ms/step - loss: 0.4956 - accuracy: 0.8183\n",
      "Epoch 60/100\n",
      "128/128 [==============================] - 37s 287ms/step - loss: 0.4686 - accuracy: 0.8262\n",
      "Epoch 61/100\n",
      "128/128 [==============================] - 37s 286ms/step - loss: 0.4724 - accuracy: 0.8280\n",
      "Epoch 62/100\n",
      "128/128 [==============================] - 37s 287ms/step - loss: 0.4477 - accuracy: 0.8374\n",
      "Epoch 63/100\n",
      "128/128 [==============================] - 37s 289ms/step - loss: 0.4359 - accuracy: 0.8404\n",
      "Epoch 64/100\n",
      "128/128 [==============================] - 37s 287ms/step - loss: 0.4344 - accuracy: 0.8428\n",
      "Epoch 65/100\n",
      "128/128 [==============================] - 37s 288ms/step - loss: 0.4176 - accuracy: 0.8476\n",
      "Epoch 66/100\n",
      "128/128 [==============================] - 37s 286ms/step - loss: 0.4065 - accuracy: 0.8523\n",
      "Epoch 67/100\n",
      "128/128 [==============================] - 37s 292ms/step - loss: 0.4174 - accuracy: 0.8447\n",
      "Epoch 68/100\n",
      "128/128 [==============================] - 37s 286ms/step - loss: 0.3979 - accuracy: 0.8536\n",
      "Epoch 69/100\n",
      "128/128 [==============================] - 37s 287ms/step - loss: 0.3862 - accuracy: 0.8594\n",
      "Epoch 70/100\n",
      "128/128 [==============================] - 36s 285ms/step - loss: 0.3692 - accuracy: 0.8634\n",
      "Epoch 71/100\n",
      "128/128 [==============================] - 37s 286ms/step - loss: 0.3615 - accuracy: 0.8666\n",
      "Epoch 72/100\n",
      "128/128 [==============================] - 37s 287ms/step - loss: 0.3481 - accuracy: 0.8727\n",
      "Epoch 73/100\n",
      "128/128 [==============================] - 37s 287ms/step - loss: 0.3232 - accuracy: 0.8793\n",
      "Epoch 74/100\n",
      "128/128 [==============================] - 37s 286ms/step - loss: 0.3272 - accuracy: 0.8849\n",
      "Epoch 75/100\n",
      "128/128 [==============================] - 36s 284ms/step - loss: 0.3332 - accuracy: 0.8785\n",
      "Epoch 76/100\n",
      "128/128 [==============================] - 37s 286ms/step - loss: 0.3366 - accuracy: 0.8792\n",
      "Epoch 77/100\n",
      "128/128 [==============================] - 37s 287ms/step - loss: 0.3120 - accuracy: 0.8857\n",
      "Epoch 78/100\n",
      "128/128 [==============================] - 37s 286ms/step - loss: 0.2990 - accuracy: 0.8903\n",
      "Epoch 79/100\n",
      "128/128 [==============================] - 37s 285ms/step - loss: 0.3193 - accuracy: 0.8829\n",
      "Epoch 80/100\n",
      "128/128 [==============================] - 37s 287ms/step - loss: 0.2825 - accuracy: 0.8973\n",
      "Epoch 81/100\n",
      "128/128 [==============================] - 36s 285ms/step - loss: 0.2723 - accuracy: 0.9014\n",
      "Epoch 82/100\n",
      "128/128 [==============================] - 36s 284ms/step - loss: 0.2760 - accuracy: 0.9007\n",
      "Epoch 83/100\n",
      "128/128 [==============================] - 37s 289ms/step - loss: 0.2571 - accuracy: 0.9070\n",
      "Epoch 84/100\n",
      "128/128 [==============================] - 37s 286ms/step - loss: 0.2911 - accuracy: 0.8952\n",
      "Epoch 85/100\n",
      "128/128 [==============================] - 36s 285ms/step - loss: 0.2546 - accuracy: 0.9086\n",
      "Epoch 86/100\n",
      "128/128 [==============================] - 37s 291ms/step - loss: 0.2368 - accuracy: 0.9135\n",
      "Epoch 87/100\n",
      "128/128 [==============================] - 37s 288ms/step - loss: 0.2588 - accuracy: 0.9040\n",
      "Epoch 88/100\n",
      "128/128 [==============================] - 37s 287ms/step - loss: 0.2323 - accuracy: 0.9162\n",
      "Epoch 89/100\n",
      "128/128 [==============================] - 37s 285ms/step - loss: 0.2422 - accuracy: 0.9108\n",
      "Epoch 90/100\n",
      "128/128 [==============================] - 37s 287ms/step - loss: 0.2343 - accuracy: 0.9177\n",
      "Epoch 91/100\n",
      "128/128 [==============================] - 37s 286ms/step - loss: 0.2273 - accuracy: 0.9172\n",
      "Epoch 92/100\n",
      "128/128 [==============================] - 37s 287ms/step - loss: 0.2244 - accuracy: 0.9196\n",
      "Epoch 93/100\n",
      "128/128 [==============================] - 37s 286ms/step - loss: 0.2048 - accuracy: 0.9266\n",
      "Epoch 94/100\n",
      "128/128 [==============================] - 37s 289ms/step - loss: 0.2383 - accuracy: 0.9144\n",
      "Epoch 95/100\n",
      "128/128 [==============================] - 37s 287ms/step - loss: 0.1948 - accuracy: 0.9311\n",
      "Epoch 96/100\n",
      "128/128 [==============================] - 36s 284ms/step - loss: 0.2129 - accuracy: 0.9246\n",
      "Epoch 97/100\n",
      "128/128 [==============================] - 37s 287ms/step - loss: 0.2066 - accuracy: 0.9282\n",
      "Epoch 98/100\n",
      "128/128 [==============================] - 36s 285ms/step - loss: 0.2041 - accuracy: 0.9267\n",
      "Epoch 99/100\n",
      "128/128 [==============================] - 37s 286ms/step - loss: 0.1670 - accuracy: 0.9418\n",
      "Epoch 100/100\n",
      "128/128 [==============================] - 37s 287ms/step - loss: 0.1914 - accuracy: 0.9321\n"
     ]
    },
    {
     "data": {
      "text/plain": [
       "<tensorflow.python.keras.callbacks.History at 0x1cb8f471a00>"
      ]
     },
     "execution_count": 25,
     "metadata": {},
     "output_type": "execute_result"
    }
   ],
   "source": [
    "#model.fit_generator(x_train, y_train, epochs=epochs) #train for all trainset\n",
    "model.fit_generator(train_generator, steps_per_epoch=batch_size, epochs=epochs) #train for randomly selected one"
   ]
  },
  {
   "cell_type": "code",
   "execution_count": 39,
   "metadata": {},
   "outputs": [],
   "source": [
    "#Saving the model\n",
    "model.save('model100.h5')"
   ]
  },
  {
   "cell_type": "markdown",
   "metadata": {},
   "source": [
    "# For accessing web cam and taking screenshots of user: "
   ]
  },
  {
   "cell_type": "code",
   "execution_count": 15,
   "metadata": {},
   "outputs": [
    {
     "name": "stdout",
     "output_type": "stream",
     "text": [
      "Picture Captured!\n",
      "Escape hit, closing...\n"
     ]
    }
   ],
   "source": [
    "import cv2\n",
    "def screenshot():\n",
    "    cam = cv2.VideoCapture(0)\n",
    "    cv2.namedWindow(\"test\")\n",
    " #img_counter = 0\n",
    "    while True:\n",
    "        ret, frame = cam.read()\n",
    "        if not ret:\n",
    "            print(\"failed to grab frame\")\n",
    "            break\n",
    "        cv2.imshow(\"test\", frame)\n",
    "        k = cv2.waitKey(1)\n",
    "        if k%256 == 27:\n",
    "         # ESC pressed\n",
    "            print(\"Escape hit, closing...\")\n",
    "            break\n",
    "        elif k%256 == 32:\n",
    "         # SPACE pressed\n",
    "           img_name = \"test.jpg\"\n",
    "           cv2.imwrite(img_name, frame)\n",
    "           print(\"Picture Captured!\")\n",
    "    cam.release()\n",
    "    cv2.destroyAllWindows()\n",
    "if __name__ == '__main__':\n",
    "    screenshot()"
   ]
  },
  {
   "cell_type": "markdown",
   "metadata": {},
   "source": [
    "# Using CNN model for detecting the emotion of the user:"
   ]
  },
  {
   "cell_type": "code",
   "execution_count": 15,
   "metadata": {},
   "outputs": [],
   "source": [
    "import os\n",
    "import sys\n",
    "from keras.models import load_model\n",
    "model = load_model('model100.h5')\n",
    "from keras.preprocessing import image\n",
    "from keras.preprocessing.image import ImageDataGenerator\n",
    "import numpy as np\n",
    "import matplotlib.pyplot as plt\n",
    "import cv2\n",
    "import spot as sp"
   ]
  },
  {
   "cell_type": "code",
   "execution_count": 16,
   "metadata": {},
   "outputs": [],
   "source": [
    "def emotion_analysis(emotions):\n",
    "    objects = ('angry', 'disgust', 'fear', 'happy', 'sad', 'surprise', 'neutral')\n",
    "    y_pos = np.arange(len(objects))\n",
    "    plt.bar(y_pos, emotions, align='center', alpha=0.5)\n",
    "    plt.xticks(y_pos, objects)\n",
    "    plt.ylabel('percentage')\n",
    "    plt.title('emotion')\n",
    "    res=(max(emotions))\n",
    "    j=0\n",
    "    for i in emotions:\n",
    "        if(i==res):\n",
    "            break\n",
    "        else:\n",
    "            j=j+1\n",
    "    Emotion=str(objects[j])\n",
    "    print('Emotion Detected : ' + Emotion)\n",
    "    print('Accuracy : '+ str(res*100))\n",
    "    plt.show()\n",
    "    return Emotion"
   ]
  },
  {
   "cell_type": "code",
   "execution_count": 17,
   "metadata": {},
   "outputs": [],
   "source": [
    "def facecrop(image): \n",
    "    facedata = \"haarcascade_frontalface_default.xml\"\n",
    "    cascade = cv2.CascadeClassifier(facedata)\n",
    "    img = cv2.imread(image)\n",
    "    try:\n",
    "        minisize = (img.shape[1],img.shape[0])\n",
    "        miniframe = cv2.resize(img, minisize)\n",
    "        faces = cascade.detectMultiScale(miniframe)\n",
    "        for f in faces:\n",
    "            x, y, w, h = [ v for v in f ]\n",
    "            cv2.rectangle(img, (x,y), (x+w,y+h), (0,255,0), 2)\n",
    "            sub_face = img[y:y+h, x:x+w]\n",
    "            cv2.imwrite('capture.jpg', sub_face)\n",
    "            #print (\"Writing: \" + image)\n",
    "    except Exception as e:\n",
    "        print (e)\n",
    "    #cv2.imshow(image, img)"
   ]
  },
  {
   "cell_type": "code",
   "execution_count": 18,
   "metadata": {},
   "outputs": [
    {
     "name": "stderr",
     "output_type": "stream",
     "text": [
      "C:\\Users\\new\\anaconda3\\lib\\site-packages\\keras_preprocessing\\image\\utils.py:107: UserWarning: grayscale is deprecated. Please use color_mode = \"grayscale\"\n",
      "  warnings.warn('grayscale is deprecated. Please use '\n"
     ]
    },
    {
     "name": "stdout",
     "output_type": "stream",
     "text": [
      "Emotion Detected : neutral\n",
      "Accuracy : 82.50682950019836\n"
     ]
    },
    {
     "data": {
      "image/png": "[encoded data removed]",
      "text/plain": [
       "<Figure size 432x288 with 1 Axes>"
      ]
     },
     "metadata": {
      "needs_background": "light"
     },
     "output_type": "display_data"
    },
    {
     "data": {
      "image/png": "[encoded data removed]",
      "text/plain": [
       "<Figure size 432x288 with 1 Axes>"
      ]
     },
     "metadata": {
      "needs_background": "light"
     },
     "output_type": "display_data"
    },
    {
     "name": "stdout",
     "output_type": "stream",
     "text": [
      "\n",
      "------------------------------------------------------------------\n",
      "\n",
      "Playlists Generated By Using The Emotion : neutral\n",
      "\n",
      "------------------------------------------------------------------\n",
      "\n",
      "playlist_name : Neutral playlist\n",
      "playlist_href : https://api.spotify.com/v1/playlists/6HmCUFtjSTocAqBp1e3pC6\n",
      "playlist_spotify_link : https://open.spotify.com/playlist/6HmCUFtjSTocAqBp1e3pC6\n",
      "playlist_songs : \n",
      "1) Mr. Brightside\n",
      "2) Mr. Blue Sky\n",
      "3) Beautiful Day\n",
      "4) She Will Be Loved - Radio Mix\n",
      "5) Payphone\n",
      "6) Maps\n",
      "7) Some Nights\n",
      "8) Don't Stop Me Now - Remastered 2011\n",
      "9) Bohemian Rhapsody - Remastered 2011\n",
      "10) I Want You Back\n",
      "11) Hooked On A Feeling\n",
      "12) Counting Stars\n",
      "13) Lean On (feat. MØ)\n",
      "14) Cold Water\n",
      "15) Starboy\n",
      "16) I Gotta Feeling\n",
      "17) Hey Ya!\n",
      "18) Levels\n",
      "19) Pompeii\n",
      "20) Sweater Weather\n",
      "-----------------------------------------------\n",
      "playlist_name : Gender Neutral Love Songs \n",
      "playlist_href : https://api.spotify.com/v1/playlists/1yQE8bhK3lDNy5ZOoTO3o4\n",
      "playlist_spotify_link : https://open.spotify.com/playlist/1yQE8bhK3lDNy5ZOoTO3o4\n",
      "playlist_songs : \n",
      "1) Kalmia Kid\n",
      "2) A Shitty Gay Song About You\n",
      "3) Strawberry Mentos\n",
      "4) Kindergarten\n",
      "5) Cloud 9 (feat. Tegan and Sara)\n",
      "6) Pyjama Pants\n",
      "7) Girls In Bikinis\n",
      "8) Mr Loverman\n",
      "9) Sweet Tooth\n",
      "10) sorry haha i fell asleep\n",
      "11) I Want To Be With You\n",
      "12) passing papers\n",
      "13) Home\n",
      "14) Yr the Best!\n",
      "15) Still into You\n",
      "16) no other feeling\n",
      "17) Slacker\n",
      "18) the saddest bop u'v EVER heard\n",
      "19) Someone To You\n",
      "20) Can't Sleep Love\n",
      "-----------------------------------------------\n",
      "playlist_name : Neutral Milk Hotel Radio\n",
      "playlist_href : https://api.spotify.com/v1/playlists/37i9dQZF1E4poFGWCsOAGI\n",
      "playlist_spotify_link : https://open.spotify.com/playlist/37i9dQZF1E4poFGWCsOAGI\n",
      "playlist_songs : \n",
      "1) In the Aeroplane Over the Sea\n",
      "2) Christian Brothers\n",
      "3) I've Been Riding With the Ghost\n",
      "4) Bodys\n",
      "5) From the Hips\n",
      "6) A Baby for Pree\n",
      "7) Les Os\n",
      "8) Two\n",
      "9) The Start of Something\n",
      "10) Condition 11:11\n",
      "11) Blast Off!\n",
      "12) Two-Headed Boy Pt. 2\n",
      "13) When I Was Done Dying\n",
      "14) I Have Been Floated\n",
      "15) The Last Time I Did Acid I Went Insane\n",
      "16) Where Is My Mind? - Remastered\n",
      "17) Oh, Susquehanna!\n",
      "18) Ghost\n",
      "19) These Few Presidents\n",
      "20) For Real\n",
      "-----------------------------------------------\n",
      "playlist_name : Neutral Evil\n",
      "playlist_href : https://api.spotify.com/v1/playlists/5IQYxKiEqNnfcVv1ouRasj\n",
      "playlist_spotify_link : https://open.spotify.com/playlist/5IQYxKiEqNnfcVv1ouRasj\n",
      "playlist_songs : \n",
      "1) Hellfire\n",
      "2) Train\n",
      "3) Kicks\n",
      "4) Me and My Friends Are Lonely\n",
      "5) Gingerbread Man\n",
      "6) Pork Soda\n",
      "7) Intentions (feat. Dan Caplen)\n",
      "8) 1955\n",
      "9) So Good\n",
      "10) War of Hearts\n",
      "11) Viva La Vida\n",
      "12) King And Lionheart\n",
      "13) Paradise\n",
      "14) Little Talks\n",
      "15) Monster\n",
      "16) Radioactive\n",
      "17) Warriors\n",
      "18) Crazy = Genius\n",
      "19) House of Memories\n",
      "20) Don't Threaten Me with a Good Time\n",
      "-----------------------------------------------\n",
      "playlist_name : Chaotic neutral energy\n",
      "playlist_href : https://api.spotify.com/v1/playlists/4ECeSPp6ZiUZXBMyYzRaar\n",
      "playlist_spotify_link : https://open.spotify.com/playlist/4ECeSPp6ZiUZXBMyYzRaar\n",
      "playlist_songs : \n",
      "1) DRUGS\n",
      "2) Choke\n",
      "3) Freaking Out\n",
      "4) Internet Ruined Me\n",
      "5) I'm in Love With an E-Girl\n",
      "6) Rät\n",
      "7) Cigarette Ahegao\n",
      "8) ringtone\n",
      "9) acting like that (feat. Machine Gun Kelly)\n",
      "10) Brightside\n",
      "11) Is Everybody Going Crazy?\n",
      "12) Back In School\n",
      "13) Body\n",
      "14) bad for you\n",
      "15) Monster\n",
      "16) Favorite Liar\n",
      "17) Help! Oh Well...\n",
      "18) Hayloft\n",
      "19) Take A Slice\n",
      "20) Absinthe\n",
      "-----------------------------------------------\n"
     ]
    }
   ],
   "source": [
    "if __name__ == '__main__':\n",
    "#Testing a file.\n",
    "    facecrop('test.jpg')\n",
    "    file = 'capture.jpg'\n",
    "    true_image = image.load_img(file)\n",
    "    img = image.load_img(file, grayscale=True, target_size=(48, 48))\n",
    "    x = image.img_to_array(img)\n",
    "    x = np.expand_dims(x, axis = 0)\n",
    "    x /= 255\n",
    "    custom = model.predict(x)\n",
    "    final_Emotion=emotion_analysis(custom[0])\n",
    "    x = np.array(x, 'float32')\n",
    "    x = x.reshape([48, 48]);\n",
    "    plt.gray()\n",
    "    plt.imshow(true_image)\n",
    "    plt.show()\n",
    "    print('\\n------------------------------------------------------------------\\n')\n",
    "    print('Playlists Generated By Using The Emotion : ' + final_Emotion)\n",
    "    print('\\n------------------------------------------------------------------\\n')\n",
    "    final_list = sp.songs_by_emotion(final_Emotion)\n",
    "    sp.print_songs(final_list)"
   ]
  },
  {
   "cell_type": "code",
   "execution_count": 19,
   "metadata": {},
   "outputs": [
    {
     "name": "stderr",
     "output_type": "stream",
     "text": [
      "<ipython-input-19-cb4108ad82f7>:1: UserWarning: `Model.evaluate_generator` is deprecated and will be removed in a future version. Please use `Model.evaluate`, which supports generators.\n",
      "  train_acc=model.evaluate_generator(train_generator)\n"
     ]
    }
   ],
   "source": [
    "train_acc=model.evaluate_generator(train_generator)"
   ]
  },
  {
   "cell_type": "code",
   "execution_count": 20,
   "metadata": {},
   "outputs": [
    {
     "name": "stderr",
     "output_type": "stream",
     "text": [
      "<ipython-input-20-3575114fde7c>:1: UserWarning: `Model.evaluate_generator` is deprecated and will be removed in a future version. Please use `Model.evaluate`, which supports generators.\n",
      "  test_acc=model.evaluate_generator(test_generator)\n"
     ]
    }
   ],
   "source": [
    "test_acc=model.evaluate_generator(test_generator)"
   ]
  },
  {
   "cell_type": "code",
   "execution_count": 21,
   "metadata": {},
   "outputs": [
    {
     "name": "stdout",
     "output_type": "stream",
     "text": [
      "0.561437726020813\n"
     ]
    }
   ],
   "source": [
    "print(test_acc[1])"
   ]
  },
  {
   "cell_type": "code",
   "execution_count": 22,
   "metadata": {},
   "outputs": [
    {
     "name": "stdout",
     "output_type": "stream",
     "text": [
      "0.9690689444541931\n"
     ]
    }
   ],
   "source": [
    "print(train_acc[1])"
   ]
  },
  {
   "cell_type": "code",
   "execution_count": null,
   "metadata": {},
   "outputs": [],
   "source": []
  }
 ],
 "metadata": {
  "kernelspec": {
   "display_name": "Python 3",
   "language": "python",
   "name": "python3"
  },
  "language_info": {
   "codemirror_mode": {
    "name": "ipython",
    "version": 3
   },
   "file_extension": ".py",
   "mimetype": "text/x-python",
   "name": "python",
   "nbconvert_exporter": "python",
   "pygments_lexer": "ipython3",
   "version": "3.8.5"
  }
 },
 "nbformat": 4,
 "nbformat_minor": 4
}
